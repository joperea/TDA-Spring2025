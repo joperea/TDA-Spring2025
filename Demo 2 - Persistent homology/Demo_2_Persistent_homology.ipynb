{
  "cells": [
    {
      "cell_type": "markdown",
      "id": "95daa888",
      "metadata": {
        "id": "95daa888"
      },
      "source": [
        "## Demo 2 - Persistent homology computations and interpretation"
      ]
    },
    {
      "cell_type": "code",
      "source": [
        "!pip install ripser"
      ],
      "metadata": {
        "id": "mNLK6W2I81M9"
      },
      "id": "mNLK6W2I81M9",
      "execution_count": null,
      "outputs": []
    },
    {
      "cell_type": "code",
      "execution_count": null,
      "id": "f3dbb2da",
      "metadata": {
        "id": "f3dbb2da"
      },
      "outputs": [],
      "source": [
        "import time\n",
        "import numpy as np\n",
        "\n",
        "from sklearn import datasets\n",
        "\n",
        "#topological data analysis\n",
        "from ripser import ripser\n",
        "from persim import plot_diagrams\n",
        "\n",
        "#plotting and visualization\n",
        "import plotly.express as px\n",
        "import plotly.graph_objects as go\n",
        "from plotly.subplots import make_subplots\n",
        "\n",
        "from scipy.spatial import distance\n",
        "\n",
        "import matplotlib.pyplot as plt\n",
        "%matplotlib inline"
      ]
    },
    {
      "cell_type": "code",
      "execution_count": null,
      "id": "cdcd1c95",
      "metadata": {
        "id": "cdcd1c95"
      },
      "outputs": [],
      "source": [
        "def plot_barcodes(diagrams, alpha_max, width = 1.5):\n",
        "    max_dim = len(diagrams)\n",
        "    fig, axs = plt.subplots(max_dim)\n",
        "    fig.suptitle('Barcodes')\n",
        "    for dim in range(max_dim):\n",
        "        barcode = np.copy(diagrams[dim])\n",
        "        ind_inf = np.isinf(barcode.T[1])\n",
        "        barcode[ind_inf, 1] = alpha_max\n",
        "        h = 1\n",
        "        for i in range(len(barcode)):\n",
        "            x = barcode[i]\n",
        "            y = [h,h]\n",
        "            axs[dim].plot(x, y, linestyle= '-', c='#1f77b4', linewidth = width)\n",
        "            if ind_inf[i]:\n",
        "                axs[dim].scatter([alpha_max],[h],  s=10, marker='>', c='#1f77b4')\n",
        "            h += 1\n",
        "        axs[dim].set_xlim(0, 1.05*alpha_max)\n",
        "        axs[dim].set_ylim(0,h)\n",
        "        axs[dim].get_yaxis().set_ticks([]);\n",
        "        axs[dim].spines['right'].set_color('none')\n",
        "        axs[dim].spines['top'].set_color('none')\n",
        "        axs[dim].text(0.3,1,'$\\mathrm{bcd}^{\\mathcal{R}}_{'+str(dim)+'}(X)$', verticalalignment='bottom')"
      ]
    },
    {
      "cell_type": "markdown",
      "source": [],
      "metadata": {
        "id": "PJ9qtWJbEbBH"
      },
      "id": "PJ9qtWJbEbBH"
    },
    {
      "cell_type": "markdown",
      "id": "5b187f47",
      "metadata": {
        "id": "5b187f47"
      },
      "source": [
        "### Rips Filtration\n",
        "\n",
        "Given a dataset $(X,\\mathbf{d}_X)$, its Rips filtration is defined as:\n",
        "\n",
        "$$\\mathcal{R}(X) = \\Big\\{\\, i_{\\alpha',\\alpha}: R_\\alpha(X) \\hookrightarrow R_{\\alpha'} (X)\\, \\Big\\}_{0 < \\alpha\\leq \\alpha'} $$\n",
        "where\n",
        "$$R_\\alpha(X) = \\Big\\{\\, \\sigma \\subset X \\mid 0 < \\#(\\sigma) < \\infty \\;\\mbox{ and }\\; \\mathsf{diam}(\\sigma) < \\alpha\\, \\Big\\} $$\n",
        "\n",
        "**Do:** Use the cell below to visualize the Rips complex of the provided dataset at various distance thresholds."
      ]
    },
    {
      "cell_type": "code",
      "source": [
        "np.random.seed(1223)\n",
        "\n",
        "n_data = 30\n",
        "theta = np.random.uniform(0, 2*np.pi, n_data)\n",
        "data = np.array([np.cos(theta) , np.sin(theta) , np.zeros_like(theta)])\n",
        "data += np.random.normal(0, 0.08, data.shape)\n",
        "\n",
        "fig = go.Figure(data=[go.Scatter3d(\n",
        "    x=data[0], y=data[1], z=data[2],\n",
        "    mode ='markers',\n",
        "    marker=dict(size = 3 , color = 'grey'))])\n",
        "\n",
        "fig.update_layout(scene= dict(zaxis = dict(range=[-1, 1])))\n",
        "fig.show()"
      ],
      "metadata": {
        "id": "woXr_TjGEhjH"
      },
      "id": "woXr_TjGEhjH",
      "execution_count": null,
      "outputs": []
    },
    {
      "cell_type": "code",
      "execution_count": null,
      "id": "ef8b6165",
      "metadata": {
        "id": "ef8b6165"
      },
      "outputs": [],
      "source": [
        "alpha = .1\n",
        "distMat = distance.squareform(distance.pdist(data.T))\n",
        "\n",
        "ii = []; jj = []; kk = []\n",
        "e_x =[]; e_y =[]; e_z =[]\n",
        "\n",
        "for i in range(n_data):\n",
        "    for j in range(i+1,n_data):\n",
        "        if distMat[i,j] < alpha:\n",
        "            # add edge (i,j)\n",
        "            e_x.extend([data[0,i], data[0,j], None])\n",
        "            e_y.extend([data[1,i], data[1,j], None])\n",
        "            e_z.extend([data[2,i], data[2,j], None])\n",
        "\n",
        "            for k in range(j+1,n_data):\n",
        "                if np.max([distMat[j,k], distMat[i,k]]) < alpha:\n",
        "                    # add triangle (i,j,k)\n",
        "                    ii.append(i); jj.append(j); kk.append(k)\n",
        "\n",
        "vertices = go.Scatter3d(mode = 'markers', name = 'vertices',\n",
        "                        x = data[0], y = data[1],  z = data[2],\n",
        "                        marker=dict(size = 3 , color = 'grey'))\n",
        "\n",
        "edges = go.Scatter3d(mode='lines', name = 'edges',\n",
        "                     x=e_x, y=e_y, z=e_z,\n",
        "                     line=dict(color= 'rgb(70,70,70)', width=1))\n",
        "\n",
        "triangles = go.Mesh3d(x=data[0], y=data[1], z=data[2],  i = ii, j = jj, k = kk,  color='lightpink', opacity=0.2)\n",
        "\n",
        "fig = go.Figure(data=[vertices, edges, triangles])\n",
        "fig.update_traces(hoverinfo=\"none\")\n",
        "fig.update_layout(scene= dict(\n",
        "                      xaxis = dict(showspikes=False),\n",
        "                      yaxis = dict(showspikes=False),\n",
        "                      zaxis = dict(showspikes=False,range=[-1, 1])))\n",
        "fig.show()"
      ]
    },
    {
      "cell_type": "markdown",
      "id": "ca551706",
      "metadata": {
        "id": "ca551706"
      },
      "source": [
        "### The Matrix Reduction Algorithm\n",
        "\n",
        "The computation of persistence diagrams/barcodes takes as input a simplexwise filtration of a simplicial complex $K$:\n",
        "$$K_0 \\subset K_1 \\subset \\cdots \\subset K_N  = K $$\n",
        "where $K_{0} = \\emptyset$ and $K_{n} = K_{n-1} \\cup \\{\\sigma_n\\}$ for some simplex $\\sigma_n \\in K\\smallsetminus K_{n-1}$ and  $n =  1, \\ldots, N$. The $N\\times N$ *total boundary matrix* $D$ of the filtration has entries $D[i,j] = \\pm 1$ if $\\sigma_i $ is a condimension 1 face of $\\sigma_j$  (the sign is determined by the orientation), and $D[i,j] = 0$ otherwise. The Matrix Reduction Algorithm for computing persistence can be implemented as follows:\n",
        "<pre>\n",
        "<b>Input:</b>  Sorted total boundary matrix D (size NxN)\n",
        "<b>Output:</b> Reduced matrix R\n",
        "        List of persistence pairs P\n",
        "        Invertible upper triangular  matrix V  (R = D*V)\n",
        "\n",
        "P = []\n",
        "V = I\n",
        "R = D\n",
        "\n",
        "<b>for</b> j = 1 to N <b>do</b>\n",
        "    <b>while</b> there exists k < j with Pivot(R_k) = Pivot(R_j) <b>do</b>\n",
        "        c = PivotEntry(R_j)/PivotEntry(R_k)\n",
        "        R_j := R_j - c*R_k\n",
        "        V_j := V_j - c*V_k\n",
        "\n",
        "     <b>if</b> (i = Pivot(R_j)) != 0 <b>then</b>\n",
        "         append(i,j) to P\n",
        "     <b>else</b>\n",
        "         append (j, infty) to P\n",
        "\n",
        "<b>return</b> V,R,P\n",
        "</pre>\n",
        "\n",
        "The paper introducing this algorithm is https://geometry.stanford.edu/papers/zc-cph-05/zc-cph-05.pdf"
      ]
    },
    {
      "cell_type": "markdown",
      "id": "edc65838",
      "metadata": {
        "id": "edc65838"
      },
      "source": [
        "### Computing Persistence via Ripser\n",
        "\n",
        "U. Bauer: \"Ripser is a lean C++ code for the computation of Vietoris–Rips persistence barcodes. It can do just this one thing, but does it extremely well.\"\n",
        "\n",
        "Original C++ library : https://github.com/Ripser/ripser\n",
        "\n",
        "Accompanying paper : https://arxiv.org/pdf/1908.02518.pdf\n",
        "\n",
        "Python library: https://ripser.scikit-tda.org/en/latest\n"
      ]
    },
    {
      "cell_type": "code",
      "execution_count": null,
      "id": "582217f5",
      "metadata": {
        "id": "582217f5"
      },
      "outputs": [],
      "source": [
        "# Persistence Computation\n",
        "start_time = time.time()\n",
        "rips_persistence = ripser(data.T, maxdim=1)\n",
        "print(\"--- %s seconds ---\" % (time.time() - start_time))\n",
        "\n",
        "dgms = rips_persistence['dgms']\n",
        "plot_barcodes(dgms,1.8);"
      ]
    },
    {
      "cell_type": "code",
      "execution_count": null,
      "id": "6463f591",
      "metadata": {
        "id": "6463f591"
      },
      "outputs": [],
      "source": [
        "plt.figure(figsize = (3,3))\n",
        "plot_diagrams(dgms, title='Persistence Diagrams')"
      ]
    },
    {
      "cell_type": "markdown",
      "source": [
        "### Data Example: Blobs\n"
      ],
      "metadata": {
        "id": "Iutx-50rFMzV"
      },
      "id": "Iutx-50rFMzV"
    },
    {
      "cell_type": "code",
      "source": [
        "\n",
        "\n",
        "plt.figure(figsize = (3,3))\n",
        "plt.scatter(data.T[0], data.T[1], s = 3, c = y_true, marker= '');\n",
        "plt.axis('square');"
      ],
      "metadata": {
        "id": "GfO_cnCeFSbG"
      },
      "id": "GfO_cnCeFSbG",
      "execution_count": null,
      "outputs": []
    },
    {
      "cell_type": "code",
      "source": [
        "n_data = 50\n",
        "n_clusters = 3\n",
        "\n",
        "data, y_true = datasets.make_blobs(n_samples=n_data, centers=n_clusters, cluster_std=0.30, random_state= 0)\n",
        "\n",
        "fig = px.scatter(x=data.T[0], y=data.T[1], color = y_true.astype(str))\n",
        "fig.update_layout(width=500, height=500)\n",
        "fig.show()"
      ],
      "metadata": {
        "id": "qKq1HX0ELl5M"
      },
      "id": "qKq1HX0ELl5M",
      "execution_count": null,
      "outputs": []
    },
    {
      "cell_type": "code",
      "source": [
        "# Complte the cell below\n",
        "\n",
        "max_distance =\n",
        "max_homology =\n",
        "\n",
        "rips_persistence = ripser(data, maxdim= max_homology, thresh = max_distance)\n",
        "\n",
        "dgms = rips_persistence['dgms']\n",
        "plot_barcodes(dgms, alpha_max = max_distance, width = 1);\n",
        "\n",
        "#plt.figure(figsize = (3,3))\n",
        "#plot_diagrams(dgms, title='Persistence Diagrams')"
      ],
      "metadata": {
        "id": "n4-9h-eLFcDR"
      },
      "id": "n4-9h-eLFcDR",
      "execution_count": null,
      "outputs": []
    },
    {
      "cell_type": "code",
      "source": [
        "plt.figure(figsize = (3,3))\n",
        "plot_diagrams(dgms, title='Persistence Diagrams')"
      ],
      "metadata": {
        "id": "YfE7sEYmJzu-"
      },
      "id": "YfE7sEYmJzu-",
      "execution_count": null,
      "outputs": []
    },
    {
      "cell_type": "markdown",
      "id": "365829c9",
      "metadata": {
        "id": "365829c9"
      },
      "source": [
        "### Data Example: Trefoil Knot"
      ]
    },
    {
      "cell_type": "code",
      "execution_count": null,
      "id": "498a9dd7",
      "metadata": {
        "id": "498a9dd7"
      },
      "outputs": [],
      "source": [
        "# Setup trefoil knot data\n",
        "np.random.seed(1122)\n",
        "n_data = 5000\n",
        "\n",
        "u = 4*np.pi*np.random.rand(n_data)\n",
        "v = 2*np.pi*np.random.rand(n_data)\n",
        "data = np.zeros((3,n_data))\n",
        "\n",
        "data[0] = np.cos(u)*np.cos(v) + 6*np.cos(u)*(1.5+np.sin(1.5*u)/2)\n",
        "data[1] = np.sin(u)*np.cos(v) + 6*np.sin(u)*(1.5+np.sin(1.5*u)/2)\n",
        "data[2] = np.sin(v) + 4*np.cos(1.5*u)\n",
        "data += 0.2*np.random.randn(*data.shape)\n",
        "\n",
        "# Plot the data\n",
        "fig = go.Figure(data=[go.Scatter3d(\n",
        "    x=data[0], y=data[1], z=data[2],\n",
        "    mode ='markers',\n",
        "    marker=dict(size = 1.5 , color = 'grey'))])\n",
        "\n",
        "fig.update_layout( width=900, height=450)\n",
        "fig.show()"
      ]
    },
    {
      "cell_type": "code",
      "execution_count": null,
      "id": "789cd599",
      "metadata": {
        "id": "789cd599"
      },
      "outputs": [],
      "source": [
        "# Persistence Computation\n",
        "start_time = time.time()\n",
        "n_landmarks = 200\n",
        "prime_coeff = 7\n",
        "\n",
        "rips_persistence = ripser(data.T, n_perm = n_landmarks, coeff = prime_coeff, maxdim=1)\n",
        "print(\"--- %s seconds ---\" % (time.time() - start_time))\n",
        "dgms = rips_persistence['dgms']\n",
        "idx_perm = rips_persistence['idx_perm']\n",
        "plt.figure(figsize = (3,3))\n",
        "plot_diagrams(dgms)"
      ]
    },
    {
      "cell_type": "code",
      "execution_count": null,
      "id": "9252195b",
      "metadata": {
        "id": "9252195b"
      },
      "outputs": [],
      "source": [
        "plot_barcodes(dgms, 10, 1)"
      ]
    },
    {
      "cell_type": "markdown",
      "id": "e8e7760e",
      "metadata": {
        "id": "e8e7760e"
      },
      "source": [
        "**Note:** When there are too many intervals, the barcode is not that useful a visualization."
      ]
    },
    {
      "cell_type": "markdown",
      "id": "00edb14e",
      "metadata": {
        "id": "00edb14e"
      },
      "source": [
        "### Subsampling the data\n",
        "\n",
        "If the dataset $(X,\\mathbf{d}_X)$  is too large -- that is, if $N = \\#(X)>>1$ -- then the persistence computation can be very slow. There are two strategies to get around this (the stability theorem -- we'll talk about this soon -- implies that these are good ideas):\n",
        "\n",
        "#### Uniform  subsample:\n",
        "\n",
        "Having indexed the points of $X$ arbitrarily as $X = \\{x_1, \\ldots, x_N\\}$, choose indices $\\{n_1, \\ldots , n_k\\} \\subset \\{1,\\ldots, N\\}$ uniformly at random (without replacement). Let $\\tilde{X} = \\{x_{n_1}, \\ldots, x_{n_k}\\} \\subset X$ be the subsample.\n",
        "\n",
        "\n",
        "#### MaxMin sampling:\n",
        "\n",
        "Choose $x_1 \\in X$ uniformly at random, and given $x_1,\\ldots, x_{j} \\in X$, let\n",
        "$$\n",
        "x_{j+1} = \\underset{x \\in X}{\\mathsf{argmax}} \\,  \\mathsf{min} \\Big\\{ \\mathbf{d}_X(x_1, x) ,\\ldots, \\mathbf{d}_X(x_j, x)\\Big\\}\n",
        "$$\n",
        "\n"
      ]
    },
    {
      "cell_type": "code",
      "execution_count": null,
      "id": "1e4c883e",
      "metadata": {
        "id": "1e4c883e"
      },
      "outputs": [],
      "source": [
        "# The data\n",
        "original_cloud =  go.Scatter3d( x=data[0], y=data[1], z=data[2],\n",
        "                               mode ='markers', name = 'data', marker=dict(size = 1.5 , color = 'grey'))\n",
        "\n",
        "# The uniform sample\n",
        "np.random.seed(1122)\n",
        "idx_uni = np.random.choice(np.arange(0,data.shape[1]), len(idx_perm))\n",
        "uniform = go.Scatter3d( x=data[0,idx_uni], y=data[1,idx_uni], z=data[2,idx_uni],\n",
        "                               mode ='markers', name = 'uniform', marker=dict(size = 2 , color = 'blue'))\n",
        "\n",
        "# The maxim sample\n",
        "maxmin =  go.Scatter3d( x=data[0,idx_perm], y=data[1,idx_perm], z=data[2,idx_perm],\n",
        "                               mode ='markers', name = 'maxmin', marker=dict(size = 2 , color = 'red'))\n",
        "\n",
        "fig = go.Figure(data=[original_cloud, uniform, maxmin])\n",
        "\n",
        "fig.update_layout( width=900, height=450)\n",
        "fig.show()"
      ]
    },
    {
      "cell_type": "markdown",
      "id": "72479f22",
      "metadata": {
        "id": "72479f22"
      },
      "source": [
        "### Data Example: Torus"
      ]
    },
    {
      "cell_type": "code",
      "execution_count": null,
      "id": "e7d0c5fa",
      "metadata": {
        "id": "e7d0c5fa"
      },
      "outputs": [],
      "source": [
        "np.random.seed(2)\n",
        "n_data = 25000\n",
        "R = 5\n",
        "r = 2\n",
        "data = np.zeros((3, n_data))\n",
        "s = np.random.rand(n_data)*2*np.pi\n",
        "t = np.random.rand(n_data)*2*np.pi\n",
        "\n",
        "data[0] = (R + r*np.cos(s))*np.cos(t)\n",
        "data[1] = (R + r*np.cos(s))*np.sin(t)\n",
        "data[2] = r*np.sin(s)\n",
        "data += 0.1*np.random.randn(*data.shape)\n",
        "\n",
        "# Plot the data\n",
        "fig = go.Figure(data=[go.Scatter3d(\n",
        "    x=data[0], y=data[1], z=data[2],\n",
        "    mode ='markers',\n",
        "    marker=dict(size = 1.5 , color = 'grey'))])\n",
        "\n",
        "fig.update_layout( width=900, height=450)\n",
        "fig.show()"
      ]
    },
    {
      "cell_type": "code",
      "execution_count": null,
      "id": "8e88e27c",
      "metadata": {
        "id": "8e88e27c"
      },
      "outputs": [],
      "source": [
        "# Persistence Computation\n",
        "\n",
        "\n",
        "\n"
      ]
    },
    {
      "cell_type": "markdown",
      "id": "43657fb9",
      "metadata": {
        "id": "43657fb9"
      },
      "source": [
        "## Activity:\n",
        "\n",
        "1. Load the mistery data sets\n",
        "2. Compute their persistent homology\n",
        "3. Given the results, what topoloical spaces could they be sampling?"
      ]
    },
    {
      "cell_type": "code",
      "execution_count": null,
      "id": "29ae11a7",
      "metadata": {
        "id": "29ae11a7"
      },
      "outputs": [],
      "source": [
        "# Your code here\n",
        "\n",
        "\n"
      ]
    }
  ],
  "metadata": {
    "kernelspec": {
      "display_name": "Python 3 (ipykernel)",
      "language": "python",
      "name": "python3"
    },
    "language_info": {
      "codemirror_mode": {
        "name": "ipython",
        "version": 3
      },
      "file_extension": ".py",
      "mimetype": "text/x-python",
      "name": "python",
      "nbconvert_exporter": "python",
      "pygments_lexer": "ipython3",
      "version": "3.9.16"
    },
    "colab": {
      "provenance": []
    }
  },
  "nbformat": 4,
  "nbformat_minor": 5
}